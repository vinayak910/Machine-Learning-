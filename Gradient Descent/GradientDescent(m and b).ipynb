{
 "cells": [
  {
   "cell_type": "markdown",
   "id": "9cf3671a",
   "metadata": {},
   "source": [
    "# Implementing our own Gradient Descent Class"
   ]
  },
  {
   "cell_type": "code",
   "execution_count": 60,
   "id": "f1fa6c1b",
   "metadata": {},
   "outputs": [],
   "source": [
    "from sklearn.datasets import make_regression"
   ]
  },
  {
   "cell_type": "code",
   "execution_count": 61,
   "id": "c392275e",
   "metadata": {},
   "outputs": [],
   "source": [
    "import matplotlib.pyplot as plt\n",
    "%matplotlib inline"
   ]
  },
  {
   "cell_type": "code",
   "execution_count": 62,
   "id": "8aa060fb",
   "metadata": {},
   "outputs": [],
   "source": [
    "import numpy as np"
   ]
  },
  {
   "cell_type": "code",
   "execution_count": 63,
   "id": "cbafcc6c",
   "metadata": {},
   "outputs": [],
   "source": [
    "X,y = make_regression(n_samples=100, n_features=1, n_informative=1, n_targets=1,noise=20,random_state=13)"
   ]
  },
  {
   "cell_type": "code",
   "execution_count": 122,
   "id": "fd576acc",
   "metadata": {},
   "outputs": [],
   "source": [
    "from sklearn.model_selection import train_test_split\n",
    "X_train,X_test,y_train,y_test = train_test_split(X,y,test_size=0.2,random_state=2)"
   ]
  },
  {
   "cell_type": "code",
   "execution_count": 95,
   "id": "eb9165c7",
   "metadata": {},
   "outputs": [],
   "source": [
    "from sklearn.model_selection import cross_val_score"
   ]
  },
  {
   "cell_type": "code",
   "execution_count": 65,
   "id": "9fd03f36",
   "metadata": {},
   "outputs": [],
   "source": [
    "from sklearn.linear_model import LinearRegression"
   ]
  },
  {
   "cell_type": "code",
   "execution_count": 123,
   "id": "1236b3be",
   "metadata": {},
   "outputs": [
    {
     "name": "stdout",
     "output_type": "stream",
     "text": [
      "[28.12597332]\n",
      "-2.271014426178382\n"
     ]
    }
   ],
   "source": [
    "model = LinearRegression()\n",
    "model.fit(X_train,y_train)\n",
    "print(model.coef_)\n",
    "print(model.intercept_)"
   ]
  },
  {
   "cell_type": "code",
   "execution_count": 124,
   "id": "d0427db3",
   "metadata": {},
   "outputs": [
    {
     "data": {
      "text/plain": [
       "0.6345158782661013"
      ]
     },
     "execution_count": 124,
     "metadata": {},
     "output_type": "execute_result"
    }
   ],
   "source": [
    "y_pred = model.predict(X_test)\n",
    "from sklearn.metrics import r2_score\n",
    "r2_score(y_test,y_pred)"
   ]
  },
  {
   "cell_type": "code",
   "execution_count": 125,
   "id": "584631f1",
   "metadata": {},
   "outputs": [],
   "source": [
    "class GD_regressor:\n",
    "    \n",
    "    def __init__(self, learning_rate , epochs):\n",
    "        self.m = 100\n",
    "        self.b = -120\n",
    "        self.lr = learning_rate\n",
    "        self.epochs = epochs\n",
    "    \n",
    "    def fit(self, X_train , y_train):\n",
    "        \n",
    "        for i in range(self.epochs):\n",
    "            \n",
    "            loss_slope_b = -2*np.sum(y - self.m*X.ravel() - self.b)\n",
    "            loss_slope_m = -2*np.sum((y - self.m*X.ravel() - self.b)*X.ravel())\n",
    "            self.b = self.b - (self.lr*loss_slope_b)\n",
    "            self.m = self.m - (self.lr*loss_slope_m)\n",
    "            \n",
    "        print(self.m,self.b)\n",
    "            \n",
    "            \n",
    "    def predict(self,X_test):\n",
    "        return self.m*X_test + self.b"
   ]
  },
  {
   "cell_type": "code",
   "execution_count": 126,
   "id": "cd2bb652",
   "metadata": {},
   "outputs": [],
   "source": [
    "gd = GD_regressor(0.001,50)"
   ]
  },
  {
   "cell_type": "code",
   "execution_count": 129,
   "id": "865d4b38",
   "metadata": {},
   "outputs": [
    {
     "name": "stdout",
     "output_type": "stream",
     "text": [
      "27.828091032596664 -2.294744558706739\n"
     ]
    }
   ],
   "source": [
    "gd.fit(X_train,y_train)\n",
    "prediction = gd.predict(X_test)"
   ]
  },
  {
   "cell_type": "code",
   "execution_count": 130,
   "id": "a972efef",
   "metadata": {},
   "outputs": [
    {
     "data": {
      "text/plain": [
       "0.6357827506342847"
      ]
     },
     "execution_count": 130,
     "metadata": {},
     "output_type": "execute_result"
    }
   ],
   "source": [
    "from sklearn.metrics import r2_score\n",
    "r2_score(y_test,prediction)"
   ]
  }
 ],
 "metadata": {
  "kernelspec": {
   "display_name": "Python 3 (ipykernel)",
   "language": "python",
   "name": "python3"
  },
  "language_info": {
   "codemirror_mode": {
    "name": "ipython",
    "version": 3
   },
   "file_extension": ".py",
   "mimetype": "text/x-python",
   "name": "python",
   "nbconvert_exporter": "python",
   "pygments_lexer": "ipython3",
   "version": "3.9.12"
  }
 },
 "nbformat": 4,
 "nbformat_minor": 5
}
