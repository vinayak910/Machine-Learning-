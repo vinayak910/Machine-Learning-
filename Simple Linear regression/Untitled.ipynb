{
 "cells": [
  {
   "cell_type": "markdown",
   "id": "08d55cd7",
   "metadata": {},
   "source": [
    "# Creating our own Simple Linear Regression class"
   ]
  },
  {
   "cell_type": "code",
   "execution_count": 108,
   "id": "72de6da7",
   "metadata": {},
   "outputs": [],
   "source": [
    "import pandas as pd\n",
    "import numpy as np"
   ]
  },
  {
   "cell_type": "code",
   "execution_count": 109,
   "id": "9680293d",
   "metadata": {},
   "outputs": [
    {
     "data": {
      "text/html": [
       "<div>\n",
       "<style scoped>\n",
       "    .dataframe tbody tr th:only-of-type {\n",
       "        vertical-align: middle;\n",
       "    }\n",
       "\n",
       "    .dataframe tbody tr th {\n",
       "        vertical-align: top;\n",
       "    }\n",
       "\n",
       "    .dataframe thead th {\n",
       "        text-align: right;\n",
       "    }\n",
       "</style>\n",
       "<table border=\"1\" class=\"dataframe\">\n",
       "  <thead>\n",
       "    <tr style=\"text-align: right;\">\n",
       "      <th></th>\n",
       "      <th>cgpa</th>\n",
       "      <th>package</th>\n",
       "    </tr>\n",
       "  </thead>\n",
       "  <tbody>\n",
       "    <tr>\n",
       "      <th>0</th>\n",
       "      <td>6.89</td>\n",
       "      <td>3.26</td>\n",
       "    </tr>\n",
       "    <tr>\n",
       "      <th>1</th>\n",
       "      <td>5.12</td>\n",
       "      <td>1.98</td>\n",
       "    </tr>\n",
       "    <tr>\n",
       "      <th>2</th>\n",
       "      <td>7.82</td>\n",
       "      <td>3.25</td>\n",
       "    </tr>\n",
       "    <tr>\n",
       "      <th>3</th>\n",
       "      <td>7.42</td>\n",
       "      <td>3.67</td>\n",
       "    </tr>\n",
       "    <tr>\n",
       "      <th>4</th>\n",
       "      <td>6.94</td>\n",
       "      <td>3.57</td>\n",
       "    </tr>\n",
       "  </tbody>\n",
       "</table>\n",
       "</div>"
      ],
      "text/plain": [
       "   cgpa  package\n",
       "0  6.89     3.26\n",
       "1  5.12     1.98\n",
       "2  7.82     3.25\n",
       "3  7.42     3.67\n",
       "4  6.94     3.57"
      ]
     },
     "execution_count": 109,
     "metadata": {},
     "output_type": "execute_result"
    }
   ],
   "source": [
    "df = pd.read_csv('placement.csv')\n",
    "df.head()"
   ]
  },
  {
   "cell_type": "code",
   "execution_count": 110,
   "id": "1b56ce09",
   "metadata": {},
   "outputs": [],
   "source": [
    "from sklearn.model_selection import train_test_split"
   ]
  },
  {
   "cell_type": "code",
   "execution_count": 117,
   "id": "4a476f6e",
   "metadata": {},
   "outputs": [],
   "source": [
    "X = df.iloc[:,0].values\n",
    "y = df['package'].values"
   ]
  },
  {
   "cell_type": "code",
   "execution_count": 118,
   "id": "04fd9cd6",
   "metadata": {},
   "outputs": [],
   "source": [
    "X_train, X_test, y_train, y_test = train_test_split(X, y, test_size=0.33, random_state=42)"
   ]
  },
  {
   "cell_type": "code",
   "execution_count": 120,
   "id": "c4391e23",
   "metadata": {},
   "outputs": [],
   "source": [
    "class Custom_lr:\n",
    "    def __init__(self):\n",
    "        self.m = None\n",
    "        self.b = None\n",
    "        \n",
    "    def fit(self,X_train,y_train):\n",
    "        \n",
    "        numerator = 0\n",
    "        denominator = 0\n",
    "        \n",
    "        for i in range(X_train.shape[0]):\n",
    "            \n",
    "            numerator = numerator + ((X_train[i] - X_train.mean())*(y_train[i] - y_train.mean()))\n",
    "            denominator = denominator + ((X_train[i] - X_train.mean())*(X_train[i] - X_train.mean()))\n",
    "            \n",
    "            self.m = numerator/denominator\n",
    "            self.b = y_train.mean() - (self.m*X_train.mean())\n",
    "    def predict(self,X_test):\n",
    "        \n",
    "        return ((self.m*X_test) + self.b)"
   ]
  },
  {
   "cell_type": "code",
   "execution_count": 121,
   "id": "f37aa1c6",
   "metadata": {},
   "outputs": [],
   "source": [
    "lr = Custom_lr()"
   ]
  },
  {
   "cell_type": "code",
   "execution_count": 122,
   "id": "2c74b880",
   "metadata": {},
   "outputs": [],
   "source": [
    "lr.fit(X_train,y_train)"
   ]
  },
  {
   "cell_type": "code",
   "execution_count": 127,
   "id": "7428fbae",
   "metadata": {},
   "outputs": [
    {
     "data": {
      "text/plain": [
       "2.799946460502512"
      ]
     },
     "execution_count": 127,
     "metadata": {},
     "output_type": "execute_result"
    }
   ],
   "source": [
    "lr.predict(X_test[0])"
   ]
  },
  {
   "cell_type": "code",
   "execution_count": 147,
   "id": "0e6963a9",
   "metadata": {},
   "outputs": [],
   "source": [
    "Custom_pred = lr.predict(X_test)"
   ]
  },
  {
   "cell_type": "code",
   "execution_count": 142,
   "id": "effe1a32",
   "metadata": {},
   "outputs": [
    {
     "name": "stdout",
     "output_type": "stream",
     "text": [
      "0.5776036483690932\n",
      "-1.0295657281845756\n"
     ]
    }
   ],
   "source": [
    "print(lr.m)\n",
    "print(lr.b)"
   ]
  },
  {
   "cell_type": "code",
   "execution_count": 131,
   "id": "aa1cc881",
   "metadata": {},
   "outputs": [
    {
     "data": {
      "text/plain": [
       "(134,)"
      ]
     },
     "execution_count": 131,
     "metadata": {},
     "output_type": "execute_result"
    }
   ],
   "source": [
    "X_train.shape"
   ]
  },
  {
   "cell_type": "code",
   "execution_count": 138,
   "id": "c51955e7",
   "metadata": {},
   "outputs": [
    {
     "data": {
      "text/plain": [
       "array([2.79994646])"
      ]
     },
     "execution_count": 138,
     "metadata": {},
     "output_type": "execute_result"
    }
   ],
   "source": [
    "from sklearn.linear_model import LinearRegression\n",
    "sklearn_lr = LinearRegression()\n",
    "sklearn_lr.fit(X_train.reshape(134,1),y_train)\n",
    "sklearn_lr.predict(X_test[0].reshape(1,1))"
   ]
  },
  {
   "cell_type": "code",
   "execution_count": 146,
   "id": "9bb9a91d",
   "metadata": {},
   "outputs": [],
   "source": [
    "sklearn_pred = sklearn_lr.predict(X_test.reshape(66,1))"
   ]
  },
  {
   "cell_type": "code",
   "execution_count": 140,
   "id": "ae53503f",
   "metadata": {},
   "outputs": [
    {
     "name": "stdout",
     "output_type": "stream",
     "text": [
      "[0.57760365]\n",
      "-1.0295657281845783\n"
     ]
    }
   ],
   "source": [
    "print(sklearn_lr.coef_)\n",
    "print(sklearn_lr.intercept_)"
   ]
  },
  {
   "cell_type": "markdown",
   "id": "f2c9f137",
   "metadata": {},
   "source": [
    "We can see both the custom_lr class and sklearn's Linear regression Gave same result "
   ]
  },
  {
   "cell_type": "code",
   "execution_count": 143,
   "id": "fc96f653",
   "metadata": {},
   "outputs": [],
   "source": [
    "import seaborn as sns\n",
    "import matplotlib.pyplot as plt\n",
    "%matplotlib inline"
   ]
  },
  {
   "cell_type": "code",
   "execution_count": 158,
   "id": "c5838ea9",
   "metadata": {},
   "outputs": [
    {
     "data": {
      "text/plain": [
       "Text(0.5, 1.0, 'Sklearn Linear Regression')"
      ]
     },
     "execution_count": 158,
     "metadata": {},
     "output_type": "execute_result"
    },
    {
     "data": {
      "image/png": "[encoded data removed]",
      "text/plain": [
       "<Figure size 864x360 with 2 Axes>"
      ]
     },
     "metadata": {
      "needs_background": "light"
     },
     "output_type": "display_data"
    }
   ],
   "source": [
    "plt.figure(figsize=(12 ,5 ))\n",
    "plt.subplot(1,2,1)\n",
    "plt.scatter(df['cgpa'],df['package'])\n",
    "plt.plot(X_train,lr.predict(X_train),color='red')\n",
    "plt.xlabel('CGPA')\n",
    "plt.ylabel('Package')\n",
    "plt.title('Custom Linear Regression')\n",
    "plt.subplot(1,2,2)\n",
    "plt.scatter(df['cgpa'],df['package'])\n",
    "plt.plot(X_train,sklearn_lr.predict(X_train.reshape(134,1)),color='red')\n",
    "plt.xlabel('CGPA')\n",
    "plt.ylabel('Package')\n",
    "plt.title('Sklearn Linear Regression')"
   ]
  }
 ],
 "metadata": {
  "kernelspec": {
   "display_name": "Python 3 (ipykernel)",
   "language": "python",
   "name": "python3"
  },
  "language_info": {
   "codemirror_mode": {
    "name": "ipython",
    "version": 3
   },
   "file_extension": ".py",
   "mimetype": "text/x-python",
   "name": "python",
   "nbconvert_exporter": "python",
   "pygments_lexer": "ipython3",
   "version": "3.9.12"
  }
 },
 "nbformat": 4,
 "nbformat_minor": 5
}
